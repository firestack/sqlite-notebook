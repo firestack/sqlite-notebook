{
 "cells": [
  {
   "cell_type": "markdown",
   "metadata": {},
   "source": [
    "This notebook is a demonstration of the SQLite Jupyter kernel.\n",
    "\n",
    "You can write SQL as you would expect:"
   ]
  },
  {
   "cell_type": "code",
   "execution_count": 1,
   "metadata": {},
   "outputs": [
    {
     "data": {},
     "execution_count": 1,
     "metadata": {},
     "output_type": "execute_result"
    }
   ],
   "source": [
    "pragma foreign_keys = on;\n",
    "\n",
    "create table albums (\n",
    "  id integer not null primary key,\n",
    "  name text,\n",
    "  year integer\n",
    ");\n",
    "\n",
    "create table tracks (\n",
    "  id integer not null primary key,\n",
    "  album integer references albums,\n",
    "  track integer,\n",
    "  name text,\n",
    "\n",
    "  unique (album, track)\n",
    ");\n"
   ]
  },
  {
   "cell_type": "markdown",
   "metadata": {},
   "source": [
    "The notebook also adds special commands like in the [command-line shell](https://www.sqlite.org/cli.html). You can use `.help` to get more information on these commands:"
   ]
  },
  {
   "cell_type": "code",
   "execution_count": 2,
   "metadata": {},
   "outputs": [
    {
     "name": "stdout",
     "output_type": "stream",
     "text": [
      ".import FILE TABLE       Import data from FILE into TABLE\n",
      "   Options:\n",
      "     --ascii               Use \\037 and \\036 as column and row separators\n",
      "     --csv                 Use , and \\n as column and row separators\n",
      "     --skip N              Skip the first N rows of input\n",
      "     --schema S            Target table to be S.TABLE\n",
      "   Notes:\n",
      "     *  If TABLE does not exist, it is created.  The first row of input\n",
      "        determines the column names.\n",
      "     *  If neither --csv or --ascii are used, the input mode is CSV.\n"
     ]
    },
    {
     "data": {},
     "execution_count": 2,
     "metadata": {},
     "output_type": "execute_result"
    }
   ],
   "source": [
    ".help import\n"
   ]
  },
  {
   "cell_type": "markdown",
   "metadata": {},
   "source": [
    "Let's import data from CSV files in this directory:"
   ]
  },
  {
   "cell_type": "code",
   "execution_count": 3,
   "metadata": {},
   "outputs": [
    {
     "data": {},
     "execution_count": 3,
     "metadata": {},
     "output_type": "execute_result"
    }
   ],
   "source": [
    ".import --skip 1 albums.csv albums\n",
    ".import --skip 1 tracks.csv tracks\n"
   ]
  },
  {
   "cell_type": "markdown",
   "metadata": {},
   "source": [
    "And do some basic analysis:"
   ]
  },
  {
   "cell_type": "code",
   "execution_count": 4,
   "metadata": {},
   "outputs": [
    {
     "data": {
      "text/csv": [
       "1989,2014,16\n",
       "reputation,2017,15\n"
      ],
      "text/html": [
       "<table>\n",
       "<thead><tr><th scope=\"col\">Album</th><th scope=\"col\">Year</th><th scope=\"col\">Track Count</th></tr></thead>\n",
       "<tbody>\n",
       "<tr><td>1989</td><td>2014</td><td>16</td></tr>\n",
       "<tr><td>reputation</td><td>2017</td><td>15</td></tr>\n",
       "</tbody></table>\n"
      ],
      "text/plain": [
       "1989|2014|16\n",
       "reputation|2017|15"
      ]
     },
     "execution_count": 4,
     "metadata": {},
     "output_type": "execute_result"
    }
   ],
   "source": [
    "select\n",
    "  name as \"Album\",\n",
    "  year as \"Year\",\n",
    "  (select count(*) from tracks where album = albums.id) as \"Track Count\"\n",
    "from albums\n",
    "group by 1\n",
    "order by year asc;\n"
   ]
  },
  {
   "cell_type": "code",
   "execution_count": 5,
   "metadata": {},
   "outputs": [
    {
     "data": {
      "text/csv": [
       "1,...Ready For It?\n",
       "2,End Game\n",
       "3,I Did Something Bad\n",
       "4,Don't Blame Me\n",
       "5,Delicate\n",
       "6,Look What You Made Me Do\n",
       "7,So It Goes...\n",
       "8,Gorgeous\n",
       "9,Getaway Car\n",
       "10,King Of My Heart\n",
       "11,Dancing With Our Hands Tied\n",
       "12,Dress\n",
       "13,This Is Why We Can't Have Nice Things\n",
       "14,Call It What You Want\n",
       "15,New Year's Day\n"
      ],
      "text/html": [
       "<table>\n",
       "<thead><tr><th scope=\"col\">#</th><th scope=\"col\">Track</th></tr></thead>\n",
       "<tbody>\n",
       "<tr><td>1</td><td>...Ready For It?</td></tr>\n",
       "<tr><td>2</td><td>End Game</td></tr>\n",
       "<tr><td>3</td><td>I Did Something Bad</td></tr>\n",
       "<tr><td>4</td><td>Don&#39;t Blame Me</td></tr>\n",
       "<tr><td>5</td><td>Delicate</td></tr>\n",
       "<tr><td>6</td><td>Look What You Made Me Do</td></tr>\n",
       "<tr><td>7</td><td>So It Goes...</td></tr>\n",
       "<tr><td>8</td><td>Gorgeous</td></tr>\n",
       "<tr><td>9</td><td>Getaway Car</td></tr>\n",
       "<tr><td>10</td><td>King Of My Heart</td></tr>\n",
       "<tr><td>11</td><td>Dancing With Our Hands Tied</td></tr>\n",
       "<tr><td>12</td><td>Dress</td></tr>\n",
       "<tr><td>13</td><td>This Is Why We Can&#39;t Have Nice Things</td></tr>\n",
       "<tr><td>14</td><td>Call It What You Want</td></tr>\n",
       "<tr><td>15</td><td>New Year&#39;s Day</td></tr>\n",
       "</tbody></table>\n"
      ],
      "text/plain": [
       "1|...Ready For It?\n",
       "2|End Game\n",
       "3|I Did Something Bad\n",
       "4|Don't Blame Me\n",
       "5|Delicate\n",
       "6|Look What You Made Me Do\n",
       "7|So It Goes...\n",
       "8|Gorgeous\n",
       "9|Getaway Car\n",
       "10|King Of My Heart\n",
       "11|Dancing With Our Hands Tied\n",
       "12|Dress\n",
       "13|This Is Why We Can't Have Nice Things\n",
       "14|Call It What You Want\n",
       "15|New Year's Day"
      ]
     },
     "execution_count": 5,
     "metadata": {},
     "output_type": "execute_result"
    }
   ],
   "source": [
    "select\n",
    "  track as \"#\",\n",
    "  name as \"Track\"\n",
    "from tracks\n",
    "where album = (select id from albums where name = 'reputation')\n",
    "order by 1;\n"
   ]
  }
 ],
 "metadata": {
  "kernelspec": {
   "display_name": "SQLite",
   "language": "sql",
   "name": "sqlite-notebook"
  },
  "language_info": {
   "file_extension": ".sql",
   "mimetype": "application/sql",
   "name": "sql",
   "version": "3.42.0"
  }
 },
 "nbformat": 4,
 "nbformat_minor": 2
}
